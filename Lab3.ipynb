{
 "cells": [
  {
   "cell_type": "markdown",
   "id": "deb44ace-5e5d-4969-bcf3-9a53cc33500c",
   "metadata": {},
   "source": [
    "# Lab 3: Logistic Regression\n",
    "\n",
    "### Dataset: \n",
    "Predicting the weather: https://www.kaggle.com/datasets/ananthr1/weather-prediction\n",
    "\n",
    "Or maybe driving style: https://www.kaggle.com/datasets/outofskills/driving-behavior\n",
    "\n",
    "Group: Benjamin Kuo & Nick Benso"
   ]
  },
  {
   "cell_type": "markdown",
   "id": "10e9bdda-1d93-48d1-960b-3acf32b613a9",
   "metadata": {},
   "source": [
    "## Preparation and Overview (3 points total)\n",
    "[2 points] Explain the task and what business-case or use-case it is designed to solve (or designed to investigate). Detail exactly what the classification task is and what parties would be interested in the results. For example, would the model be deployed or used mostly for offline analysis? As in previous labs, also detail how good the classifier needs to perform in order to be useful. "
   ]
  },
  {
   "cell_type": "markdown",
   "id": "0ec83918-db1f-4e9b-b124-2ac7af863e7e",
   "metadata": {},
   "source": [
    "[.5 points] (mostly the same processes as from previous labs) Define and prepare your class variables. Use proper variable representations (int, float, one-hot, etc.). Use pre-processing methods (as needed) for dimensionality reduction, scaling, etc. Remove variables that are not needed/useful for the analysis. Describe the final dataset that is used for classification/regression (include a description of any newly formed variables you created). Provide a breakdown of the variables after preprocessing (such as the mean, std, etc. for all variables, including numeric and categorical).\n"
   ]
  },
  {
   "cell_type": "markdown",
   "id": "3f9bb61d-2c9c-4c77-9c5f-85b7c3457187",
   "metadata": {},
   "source": [
    "[.5 points] Divide your data into training and testing data using an 80% training and 20% testing split. Use the cross validation modules that are part of scikit-learn. Argue \"for\" or \"against\" splitting your data using an 80/20 split. That is, why is the 80/20 split appropriate (or not) for your dataset?"
   ]
  },
  {
   "cell_type": "code",
   "execution_count": 2,
   "id": "4987f863-286e-4e7a-ad34-28f237379eac",
   "metadata": {
    "tags": []
   },
   "outputs": [
    {
     "name": "stdout",
     "output_type": "stream",
     "text": [
      "<class 'pandas.core.frame.DataFrame'>\n",
      "RangeIndex: 1461 entries, 0 to 1460\n",
      "Data columns (total 6 columns):\n",
      " #   Column         Non-Null Count  Dtype  \n",
      "---  ------         --------------  -----  \n",
      " 0   date           1461 non-null   object \n",
      " 1   precipitation  1461 non-null   float64\n",
      " 2   temp_max       1461 non-null   float64\n",
      " 3   temp_min       1461 non-null   float64\n",
      " 4   wind           1461 non-null   float64\n",
      " 5   weather        1461 non-null   object \n",
      "dtypes: float64(4), object(2)\n",
      "memory usage: 68.6+ KB\n",
      "None\n",
      "<class 'pandas.core.frame.DataFrame'>\n",
      "RangeIndex: 1461 entries, 0 to 1460\n",
      "Data columns (total 6 columns):\n",
      " #   Column         Non-Null Count  Dtype         \n",
      "---  ------         --------------  -----         \n",
      " 0   date           1461 non-null   datetime64[ns]\n",
      " 1   precipitation  1461 non-null   float64       \n",
      " 2   temp_max       1461 non-null   float64       \n",
      " 3   temp_min       1461 non-null   float64       \n",
      " 4   wind           1461 non-null   float64       \n",
      " 5   weather        1461 non-null   object        \n",
      "dtypes: datetime64[ns](1), float64(4), object(1)\n",
      "memory usage: 68.6+ KB\n"
     ]
    }
   ],
   "source": [
    "%config Completer.use_jedi = False\n",
    "import pandas as pd\n",
    "import numpy as np\n",
    "import seaborn as sns\n",
    "import matplotlib\n",
    "import matplotlib.pyplot as plt\n",
    "from datetime import datetime\n",
    "from datetime import date\n",
    "\n",
    "df = pd.read_csv('seattle-weather.csv') # read in the csv file\n",
    "print(df.info())\n",
    "\n",
    "# separate data types\n",
    "date_features = 'date'\n",
    "numerical_features = ['precipitation','temp_max','temp_min','wind']\n",
    "area_categories = df['weather'].unique()\n",
    "\n",
    "# define with correct data types\n",
    "df[date_features] = df[date_features].astype(np.datetime64)\n",
    "df[numerical_features] = df[numerical_features].astype(np.float64)\n",
    "\n",
    "df.info()"
   ]
  },
  {
   "cell_type": "markdown",
   "id": "055cc4c7-7925-4c24-8ae2-789a7e3e1f74",
   "metadata": {},
   "source": [
    "## Modeling (5 points total)\n",
    "The implementation of logistic regression must be written only from the examples given to you by the instructor. No credit will be assigned to teams that copy implementations from another source, regardless of if the code is properly cited. \n",
    "\n",
    "[2 points] Create a custom, one-versus-all logistic regression classifier using numpy and scipy to optimize. Use object oriented conventions identical to scikit-learn. You should start with the template developed by the instructor in the course. You should add the following functionality to the logistic regression classifier:\n",
    "Ability to choose optimization technique when class is instantiated: either steepest ascent, stochastic gradient ascent, and {Newton's method/Quasi Newton methods}. \n",
    "Update the gradient calculation to include a customizable regularization term (either using no regularization, L1 regularization, L2 regularization, or both L1 and L2 regularization). Associate a cost with the regularization term, \"C\", that can be adjusted when the class is instantiated.  \n",
    "\n",
    "[1.5 points] Train your classifier to achieve good generalization performance. That is, adjust the optimization technique and the value of the regularization term(s) \"C\" to achieve the best performance on your test set. Visualize the performance of the classifier versus the parameters you investigated. Is your method of selecting parameters justified? \n",
    "\n",
    "[1.5 points] Compare the performance of your \"best\" logistic regression optimization procedure to the procedure used in scikit-learn. Visualize the performance differences in terms of training time and classification performance. Discuss the results. "
   ]
  },
  {
   "cell_type": "markdown",
   "id": "5cc9dec8-9152-463f-9884-49ad65e60b0e",
   "metadata": {},
   "source": [
    "## Deployment (1 points total)\n",
    "Which implementation of logistic regression would you advise be used in a deployed machine learning model, your implementation or scikit-learn (or other third party)? Why?"
   ]
  },
  {
   "cell_type": "code",
   "execution_count": null,
   "id": "5d7bbbcb-fae3-41b3-9ad5-3eafb3e54d10",
   "metadata": {},
   "outputs": [],
   "source": []
  }
 ],
 "metadata": {
  "kernelspec": {
   "display_name": "Python 3 (ipykernel)",
   "language": "python",
   "name": "python3"
  },
  "language_info": {
   "codemirror_mode": {
    "name": "ipython",
    "version": 3
   },
   "file_extension": ".py",
   "mimetype": "text/x-python",
   "name": "python",
   "nbconvert_exporter": "python",
   "pygments_lexer": "ipython3",
   "version": "3.9.13"
  }
 },
 "nbformat": 4,
 "nbformat_minor": 5
}
